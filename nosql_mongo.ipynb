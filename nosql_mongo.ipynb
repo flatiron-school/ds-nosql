{
 "cells": [
  {
   "cell_type": "markdown",
   "metadata": {},
   "source": [
    "# On MongoDB and NoSQL Databases"
   ]
  },
  {
   "cell_type": "code",
   "execution_count": null,
   "metadata": {},
   "outputs": [],
   "source": [
    "import json\n",
    "import requests\n",
    "import pandas as pd\n",
    "# pip install pymongo OR conda install -c anaconda pymongo\n",
    "import pymongo"
   ]
  },
  {
   "cell_type": "markdown",
   "metadata": {},
   "source": [
    "![nosql](https://pragatisoftware.com/wp-content/uploads/2017/04/An-Introduction-to-NoSQL-1.jpg)\n",
    "\n",
    "![mongodb](https://nakedsecurity.sophos.com/wp-content/uploads/sites/2/2017/01/mongodb.png?resize=780,408)"
   ]
  },
  {
   "cell_type": "markdown",
   "metadata": {},
   "source": [
    "SQL is the paradigmatic tool for working with relational databases, where the data has the form of tables that relate to each other with foreign keys etc. But we have already seen examples of data that doesn't take this form. Sometimes we have long-form pieces of text. Sometimes we have JSON objects that have lots of nested levels. Or JSON objects that have keys with values that are often long or often missing. Or maybe we have pictures or sound files that are part of a record. In such cases it's often good to turn to NoSQL databases.\n",
    "\n",
    "There are several options for NoSQL databases:\n",
    "\n",
    "- [Cassandra](http://cassandra.apache.org/)\n",
    "- [Couchbase](https://www.couchbase.com/)\n",
    "- [Riak](https://riak.com/index.html)\n",
    "\n",
    "But MongoDB seems to be the most common."
   ]
  },
  {
   "cell_type": "markdown",
   "metadata": {},
   "source": [
    "## Agenda\n",
    "\n",
    "SWBAT:\n",
    "\n",
    "- Use mongodb to read and to manipulate JSON data;\n",
    "- Use `pymongo` to do the same in a Python interpreter;\n",
    "- Use MongoDB Atlas to interact with JSON data in the cloud."
   ]
  },
  {
   "cell_type": "markdown",
   "metadata": {},
   "source": [
    "## MongoDB Installation\n",
    "\n",
    "The basic installation with Homebrew goes like this:\n",
    "\n",
    "```\n",
    "brew tap mongodb/brew\n",
    "brew install mongodb-community\n",
    "```\n",
    "\n",
    "Notes:\n",
    "\n",
    "- You may need to adjust your security settings. <br/>\n",
    "- There is a known problem with installing mongo on Catalina. The mongo installation looks to set up a data directory at `/data/db`, but Catalina's directory structure is a bit different, and the path to the data directory should be `/System/Volumes/Data/data/db`.\n",
    "\n",
    "So Catalina (or later) users should try:\n",
    "\n",
    "```\n",
    "sudo mkdir -p /System/Volumes/Data/data/db\n",
    "sudo chown -R `id -un` /System/Volumes/Data/data/db\n",
    "```\n",
    "***\n",
    "Then you'll need to start the Mongo Daemon:\n",
    "```\n",
    "mongod\n",
    "```\n",
    "Catalina users:\n",
    "```\n",
    "mongod --dbpath=/System/Volumes/Data/data/db\n",
    "```\n",
    "Windows users see [here](https://docs.mongodb.com/manual/tutorial/install-mongodb-on-windows/).\n",
    "\n",
    "If you're having trouble installing MongoDB, consider using MongoDB Atlas, the cloud-hosted version of MongoDB. (See the end of the current notebook.)"
   ]
  },
  {
   "cell_type": "markdown",
   "metadata": {},
   "source": [
    "## What Is Mongo?\n",
    "\n",
    "Mongo is one of the leading tools for working with *non-relational* databases.\n",
    "\n",
    "With Mongo we should at least be able to Create, Read, Update, Delete: the four basic functions of persistent storage.\n",
    "\n",
    "[This site](https://www.tutorialspoint.com/mongodb/index.htm) is an excellent resource on Mongo. (See also the documentation [here](https://docs.mongodb.com/manual/tutorial/).) Let's check it out!\n",
    "\n",
    "- Overview: Terminology: SQL vs. NoSQL (Not only SQL)\n",
    "- Advantages: NoSQL\n",
    "- Data Modeling: Example\n",
    "- Queries: Equivalents of SQL 'WHERE', 'AND', and 'OR'\n",
    "- Aggregation: Equivalents of SQL 'GROUPBY'"
   ]
  },
  {
   "cell_type": "markdown",
   "metadata": {},
   "source": [
    "## Mongo in the Terminal\n",
    "\n",
    "Let's try a few simple commands.\n",
    "\n",
    "1. Run `mongo` to launch the program!\n",
    "2. Now run `help` to see some mongo hints.\n",
    "3. Let's run `show dbs` to show the databases to which we're currently connected.\n",
    "4. To use or create a particular database, simply type `use` followed by the name of the database.\n",
    "5. Once we're accessing a particular database, we can list its collections by running `show collections`."
   ]
  },
  {
   "cell_type": "markdown",
   "metadata": {},
   "source": [
    "## Loading Data\n",
    "\n",
    "Let's use both:\n",
    "\n",
    "- data that we already have in JSON form; and\n",
    "- data that we acquire from an API."
   ]
  },
  {
   "cell_type": "markdown",
   "metadata": {},
   "source": [
    "### JSON Data"
   ]
  },
  {
   "cell_type": "code",
   "execution_count": null,
   "metadata": {},
   "outputs": [],
   "source": [
    "with open('data/burgers.json', 'r') as f:\n",
    "    burgers = json.load(f)"
   ]
  },
  {
   "cell_type": "code",
   "execution_count": null,
   "metadata": {},
   "outputs": [],
   "source": [
    "burgers"
   ]
  },
  {
   "cell_type": "markdown",
   "metadata": {},
   "source": [
    "### Foursquare API"
   ]
  },
  {
   "cell_type": "code",
   "execution_count": null,
   "metadata": {},
   "outputs": [],
   "source": [
    "url = 'https://api.foursquare.com/v2/venues/explore'\n",
    "with open('.secrets/credentials.json') as f:\n",
    "    params = json.load(f)"
   ]
  },
  {
   "cell_type": "code",
   "execution_count": null,
   "metadata": {},
   "outputs": [],
   "source": [
    "params['v'] = '20201201'\n",
    "params['ll'] = '47.608, -122.336',\n",
    "params['query'] = 'pizza',\n",
    "params['intent'] = 'browse',\n",
    "params['radius'] = 10000,\n",
    "params['limit'] = 100"
   ]
  },
  {
   "cell_type": "code",
   "execution_count": null,
   "metadata": {},
   "outputs": [],
   "source": [
    "response = requests.get(url=url, params=params)\n",
    "data = json.loads(response.text)"
   ]
  },
  {
   "cell_type": "code",
   "execution_count": null,
   "metadata": {},
   "outputs": [],
   "source": [
    "data.keys()"
   ]
  },
  {
   "cell_type": "code",
   "execution_count": null,
   "metadata": {},
   "outputs": [],
   "source": [
    "type(data['response'])"
   ]
  },
  {
   "cell_type": "code",
   "execution_count": null,
   "metadata": {},
   "outputs": [],
   "source": [
    "data['response'].keys()"
   ]
  },
  {
   "cell_type": "markdown",
   "metadata": {},
   "source": [
    "After some exploration ..."
   ]
  },
  {
   "cell_type": "code",
   "execution_count": null,
   "metadata": {},
   "outputs": [],
   "source": [
    "data['response']['groups'][0]['items']"
   ]
  },
  {
   "cell_type": "markdown",
   "metadata": {},
   "source": [
    "Let's grab the value for 'venue' in each establishment in this list:"
   ]
  },
  {
   "cell_type": "code",
   "execution_count": null,
   "metadata": {},
   "outputs": [],
   "source": [
    "info = []\n",
    "\n",
    "for store in data['response']['groups'][0]['items']:\n",
    "    info.append(store['venue'])\n",
    "\n",
    "foursq_df = pd.DataFrame(info)"
   ]
  },
  {
   "cell_type": "code",
   "execution_count": null,
   "metadata": {},
   "outputs": [],
   "source": [
    "foursq_df.sample(10)"
   ]
  },
  {
   "cell_type": "markdown",
   "metadata": {},
   "source": [
    "## Putting into Mongo"
   ]
  },
  {
   "cell_type": "markdown",
   "metadata": {},
   "source": [
    "We could do all we need in the terminal, but we can also make use of `pymongo`, which is a Python package that interfaces with mongo databases!"
   ]
  },
  {
   "cell_type": "code",
   "execution_count": null,
   "metadata": {},
   "outputs": [],
   "source": [
    "#!conda install pymongo\n",
    "\n",
    "client = pymongo.MongoClient('mongodb://127.0.0.1:27017')"
   ]
  },
  {
   "cell_type": "code",
   "execution_count": null,
   "metadata": {},
   "outputs": [],
   "source": [
    "client.list_database_names()"
   ]
  },
  {
   "cell_type": "code",
   "execution_count": null,
   "metadata": {},
   "outputs": [],
   "source": [
    "db = client['foursquare']"
   ]
  },
  {
   "cell_type": "code",
   "execution_count": null,
   "metadata": {},
   "outputs": [],
   "source": [
    "db.list_collection_names()"
   ]
  },
  {
   "cell_type": "code",
   "execution_count": null,
   "metadata": {},
   "outputs": [],
   "source": [
    "db.create_collection('sea_pizza')"
   ]
  },
  {
   "cell_type": "code",
   "execution_count": null,
   "metadata": {},
   "outputs": [],
   "source": [
    "db.list_collection_names()"
   ]
  },
  {
   "cell_type": "code",
   "execution_count": null,
   "metadata": {},
   "outputs": [],
   "source": [
    "db['sea_pizza'].insert_many(info)"
   ]
  },
  {
   "cell_type": "code",
   "execution_count": null,
   "metadata": {},
   "outputs": [],
   "source": [
    "db['sea_pizza'].inserted_ids"
   ]
  },
  {
   "cell_type": "code",
   "execution_count": null,
   "metadata": {},
   "outputs": [],
   "source": [
    "pizza = db['sea_pizza']"
   ]
  },
  {
   "cell_type": "code",
   "execution_count": null,
   "metadata": {},
   "outputs": [],
   "source": [
    "pizza.find({})[0]"
   ]
  },
  {
   "cell_type": "code",
   "execution_count": null,
   "metadata": {},
   "outputs": [],
   "source": [
    "pizza.find({'name': 'Big Mario\\'s Pizza'})[0]"
   ]
  },
  {
   "cell_type": "markdown",
   "metadata": {},
   "source": [
    "### Updating"
   ]
  },
  {
   "cell_type": "code",
   "execution_count": null,
   "metadata": {},
   "outputs": [],
   "source": [
    "big_m = {'name': 'Big Mario\\'s Pizza'}"
   ]
  },
  {
   "cell_type": "code",
   "execution_count": null,
   "metadata": {},
   "outputs": [],
   "source": [
    "pizza.update_one(big_m, {'$set': {'greg_rating': 'five stars'}})"
   ]
  },
  {
   "cell_type": "code",
   "execution_count": null,
   "metadata": {},
   "outputs": [],
   "source": [
    "pizza.find({'name': 'Big Mario\\'s Pizza'})[0]"
   ]
  },
  {
   "cell_type": "markdown",
   "metadata": {},
   "source": [
    "### Filtering\n",
    "\n",
    "We can specify either the keys/values we want displayed (with '1') or the keys/values we do NOT want displayed (with '0')."
   ]
  },
  {
   "cell_type": "code",
   "execution_count": null,
   "metadata": {},
   "outputs": [],
   "source": [
    "for eatery in pizza.find({}, {'name': 1}):\n",
    "    print(eatery)"
   ]
  },
  {
   "cell_type": "markdown",
   "metadata": {},
   "source": [
    "The '\\_id' key is the only one whose value (0 or 1) can be different from the rest."
   ]
  },
  {
   "cell_type": "code",
   "execution_count": null,
   "metadata": {},
   "outputs": [],
   "source": [
    "for eatery in pizza.find({}, {'_id': 0, 'name': 1, 'location': 1}):\n",
    "    print(eatery)"
   ]
  },
  {
   "cell_type": "markdown",
   "metadata": {},
   "source": [
    "### Sorting"
   ]
  },
  {
   "cell_type": "code",
   "execution_count": null,
   "metadata": {},
   "outputs": [],
   "source": [
    "pizza.find({}, {'_id': 0, 'name': 1, 'location': 1}).sort('name')[0]"
   ]
  },
  {
   "cell_type": "markdown",
   "metadata": {},
   "source": [
    "### Aggregating\n",
    "\n",
    "Try this one yourselves!"
   ]
  },
  {
   "cell_type": "markdown",
   "metadata": {},
   "source": [
    "### Some Useful `pymongo` Methods\n",
    "\n",
    "`.find()`\n",
    "`.delete_one()`\n",
    "`.update()`\n",
    "`.update_many()`\n",
    "`.insert_one()`\n",
    "`.insert_many()`"
   ]
  },
  {
   "cell_type": "code",
   "execution_count": null,
   "metadata": {},
   "outputs": [],
   "source": []
  },
  {
   "cell_type": "markdown",
   "metadata": {},
   "source": [
    "## MongoDB Atlas: MongoDB in the Cloud\n",
    "\n",
    "MongoDB Atlas is your ticket to MongoDB in the cloud! This may be desirable if you're running into space issues with large databases or if you need to collaborate with others on a project.\n",
    "\n",
    "Here I'll walk through simple first steps to setting up MongoDB Atlas:\n",
    "\n",
    "1. Start here: https://www.mongodb.com/cloud/atlas\n",
    "2. Click on “Start Free”\n",
    "3. You’ll supply your email, first and last name, and a password at the registration site (https://www.mongodb.com/cloud/atlas/register)\n",
    "4. Now click “Create a Cluster”\n",
    "5. Select “Starter Clusters”\n",
    "6. Configure Cluster\n",
    "7. Select AWS as provider and “Oregon” as region\n",
    "8. Leave Cluster Tier as is\n",
    "9. Leave Additional Settings as is\n",
    "10. Edit Cluster Name\n",
    "11. Wait for your Cluster to be built\n",
    "\n",
    "To connect: <br/>\n",
    "12. Click on ‘Connect’\n",
    "13. Whitelist your connection IP address using your existing IP Address\n",
    "14. Name it: Laptop on WeWork wifi\n",
    "15. Create a mongoDB User\n",
    "16. Choose a connection method\n",
    "17. Click on ‘Connect Your Application’\n",
    "18. Choose your driver version\n",
    "19. Driver: Python\n",
    "20. Version: 3.6 or later\n",
    "21. Add your connection string into your application code\n",
    "22. Click on Full Driver Example\n",
    "23. Replace <password> with the password for the <dbUser> user.\n",
    "\n",
    "In the terminal, be sure you’re in the learn-env conda environment before typing: <br/>\n",
    "`conda install pymongo` <br/>\n",
    "`conda install dnspython`\n",
    "\n",
    "\n",
    "- To share your database with a team member, follow these steps: <br/>\n",
    "    Database Access → Click on “Add New User” <br/>\n",
    "    Assign each team member the following: <br/>\n",
    "    - A user name\n",
    "    - A password\n",
    "    \n",
    "Send your team member the following: <br/>\n",
    "    Their user name you assigned to them <br/>\n",
    "    Their password you assigned to them <br/>\n",
    "    Your mongodb connection string"
   ]
  },
  {
   "cell_type": "code",
   "execution_count": null,
   "metadata": {},
   "outputs": [],
   "source": [
    "# Let's do a quick demo of adding data to a cluster on MongoDB Atlas!\n",
    "\n",
    "# import pymongo"
   ]
  },
  {
   "cell_type": "code",
   "execution_count": null,
   "metadata": {},
   "outputs": [],
   "source": [
    "#!pip install dnspython"
   ]
  },
  {
   "cell_type": "code",
   "execution_count": null,
   "metadata": {},
   "outputs": [],
   "source": [
    "# Remember to add your current IP address to the access list!\n",
    "# Go to Security -> Network Access (on the left control panel on\n",
    "# cloud.mongodb.com)\n",
    "\n",
    "with open('.secrets/atlas.json') as f:\n",
    "    password = json.load(f)\n",
    "\n",
    "client = pymongo.MongoClient(\"mongodb+srv://gadamico:\" + password['phrase'] +\\\n",
    "\"@gregcluster200204-7ckf3.mongodb.net/test?retryWrites=true&w=majority\")\n",
    "db = client.test"
   ]
  },
  {
   "cell_type": "code",
   "execution_count": null,
   "metadata": {},
   "outputs": [],
   "source": [
    "client"
   ]
  },
  {
   "cell_type": "code",
   "execution_count": null,
   "metadata": {},
   "outputs": [],
   "source": [
    "db.list_collection_names()"
   ]
  },
  {
   "cell_type": "code",
   "execution_count": null,
   "metadata": {},
   "outputs": [],
   "source": [
    "db.people.find({})[0]"
   ]
  },
  {
   "cell_type": "code",
   "execution_count": null,
   "metadata": {},
   "outputs": [],
   "source": [
    "import datetime\n",
    "personDocument = {\n",
    "  \"name\": { \"first\": \"Charles\", \"last\": \"Babbage\" },\n",
    "  \"birth\": datetime.datetime(1791, 12, 26),\n",
    "  \"death\": datetime.datetime(1871, 10, 18),\n",
    "  \"contribs\": [ \"computer\", \"difference engine\"]\n",
    "}\n",
    "\n",
    "db.people.insert_one(personDocument)"
   ]
  },
  {
   "cell_type": "code",
   "execution_count": null,
   "metadata": {},
   "outputs": [],
   "source": [
    "db.people.find({})[1]"
   ]
  },
  {
   "cell_type": "code",
   "execution_count": null,
   "metadata": {},
   "outputs": [],
   "source": []
  }
 ],
 "metadata": {
  "kernelspec": {
   "display_name": "Python 3",
   "language": "python",
   "name": "python3"
  },
  "language_info": {
   "codemirror_mode": {
    "name": "ipython",
    "version": 3
   },
   "file_extension": ".py",
   "mimetype": "text/x-python",
   "name": "python",
   "nbconvert_exporter": "python",
   "pygments_lexer": "ipython3",
   "version": "3.7.2"
  }
 },
 "nbformat": 4,
 "nbformat_minor": 2
}
